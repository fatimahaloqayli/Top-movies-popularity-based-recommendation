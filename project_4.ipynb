{
 "cells": [
  {
   "cell_type": "markdown",
   "metadata": {},
   "source": [
    "\n",
    "\n",
    "# Fatimah Aloqayli\n",
    "\n",
    "\n",
    "\n",
    "\n",
    "#  Top movies by popularity based recommendation\n",
    "                "
   ]
  },
  {
   "cell_type": "code",
   "execution_count": 51,
   "metadata": {},
   "outputs": [],
   "source": [
    "import pandas as pd \n",
    "import numpy as np\n",
    "import warnings\n",
    "warnings.filterwarnings('ignore')"
   ]
  },
  {
   "cell_type": "code",
   "execution_count": 52,
   "metadata": {},
   "outputs": [],
   "source": [
    "mov = pd.read_csv('movies.csv')"
   ]
  },
  {
   "cell_type": "code",
   "execution_count": 53,
   "metadata": {},
   "outputs": [
    {
     "data": {
      "text/html": [
       "<div>\n",
       "<style scoped>\n",
       "    .dataframe tbody tr th:only-of-type {\n",
       "        vertical-align: middle;\n",
       "    }\n",
       "\n",
       "    .dataframe tbody tr th {\n",
       "        vertical-align: top;\n",
       "    }\n",
       "\n",
       "    .dataframe thead th {\n",
       "        text-align: right;\n",
       "    }\n",
       "</style>\n",
       "<table border=\"1\" class=\"dataframe\">\n",
       "  <thead>\n",
       "    <tr style=\"text-align: right;\">\n",
       "      <th></th>\n",
       "      <th>movies_name</th>\n",
       "      <th>category</th>\n",
       "      <th>num_voter</th>\n",
       "      <th>rating</th>\n",
       "      <th>price</th>\n",
       "      <th>year_of_release</th>\n",
       "      <th>month_of_release</th>\n",
       "    </tr>\n",
       "  </thead>\n",
       "  <tbody>\n",
       "    <tr>\n",
       "      <th>0</th>\n",
       "      <td>Pet Sematary (2019)</td>\n",
       "      <td>NaN</td>\n",
       "      <td>6</td>\n",
       "      <td>3.3</td>\n",
       "      <td>14.99</td>\n",
       "      <td>2019</td>\n",
       "      <td>4</td>\n",
       "    </tr>\n",
       "    <tr>\n",
       "      <th>1</th>\n",
       "      <td>Alita: Battle Angel</td>\n",
       "      <td>Action &amp; adventure</td>\n",
       "      <td>875</td>\n",
       "      <td>4.2</td>\n",
       "      <td>19.99</td>\n",
       "      <td>2019</td>\n",
       "      <td>2</td>\n",
       "    </tr>\n",
       "    <tr>\n",
       "      <th>2</th>\n",
       "      <td>The Intruder (Subbed)</td>\n",
       "      <td>NaN</td>\n",
       "      <td>9</td>\n",
       "      <td>3.9</td>\n",
       "      <td>38.99</td>\n",
       "      <td>2019</td>\n",
       "      <td>5</td>\n",
       "    </tr>\n",
       "    <tr>\n",
       "      <th>3</th>\n",
       "      <td>Breakthrough</td>\n",
       "      <td>Drama</td>\n",
       "      <td>145</td>\n",
       "      <td>3.8</td>\n",
       "      <td>55.99</td>\n",
       "      <td>2019</td>\n",
       "      <td>4</td>\n",
       "    </tr>\n",
       "    <tr>\n",
       "      <th>4</th>\n",
       "      <td>The Aftermath</td>\n",
       "      <td>Drama</td>\n",
       "      <td>48</td>\n",
       "      <td>3.5</td>\n",
       "      <td>55.99</td>\n",
       "      <td>2019</td>\n",
       "      <td>3</td>\n",
       "    </tr>\n",
       "  </tbody>\n",
       "</table>\n",
       "</div>"
      ],
      "text/plain": [
       "             movies_name            category num_voter  rating   price  \\\n",
       "0    Pet Sematary (2019)                 NaN         6     3.3   14.99   \n",
       "1    Alita: Battle Angel  Action & adventure       875     4.2   19.99   \n",
       "2  The Intruder (Subbed)                 NaN         9     3.9   38.99   \n",
       "3           Breakthrough               Drama       145     3.8   55.99   \n",
       "4          The Aftermath               Drama        48     3.5   55.99   \n",
       "\n",
       "   year_of_release  month_of_release  \n",
       "0             2019                 4  \n",
       "1             2019                 2  \n",
       "2             2019                 5  \n",
       "3             2019                 4  \n",
       "4             2019                 3  "
      ]
     },
     "execution_count": 53,
     "metadata": {},
     "output_type": "execute_result"
    }
   ],
   "source": [
    "mov.head()"
   ]
  },
  {
   "cell_type": "code",
   "execution_count": 54,
   "metadata": {},
   "outputs": [
    {
     "data": {
      "text/plain": [
       "movies_name          object\n",
       "category             object\n",
       "num_voter            object\n",
       "rating              float64\n",
       "price                object\n",
       "year_of_release       int64\n",
       "month_of_release      int64\n",
       "dtype: object"
      ]
     },
     "execution_count": 54,
     "metadata": {},
     "output_type": "execute_result"
    }
   ],
   "source": [
    "#change the data type for the columns\n",
    "mov.dtypes"
   ]
  },
  {
   "cell_type": "code",
   "execution_count": 55,
   "metadata": {},
   "outputs": [
    {
     "name": "stdout",
     "output_type": "stream",
     "text": [
      "movies_name          object\n",
      "category             object\n",
      "num_voter            object\n",
      "rating              float64\n",
      "price               float64\n",
      "year_of_release       int64\n",
      "month_of_release      int64\n",
      "dtype: object\n"
     ]
    }
   ],
   "source": [
    "mov['price'] = mov['price'].astype(float)\n",
    "\n",
    "print(mov.dtypes)"
   ]
  },
  {
   "cell_type": "code",
   "execution_count": 56,
   "metadata": {},
   "outputs": [
    {
     "name": "stdout",
     "output_type": "stream",
     "text": [
      "movies_name          object\n",
      "category             object\n",
      "num_voter             int64\n",
      "rating              float64\n",
      "price               float64\n",
      "year_of_release       int64\n",
      "month_of_release      int64\n",
      "dtype: object\n"
     ]
    }
   ],
   "source": [
    "\n",
    "\n",
    "mov['num_voter']= mov['num_voter'].str.replace(',',\"\")\n",
    "mov['num_voter'] = mov['num_voter'].apply(pd.to_numeric)\n",
    "\n",
    "print(mov.dtypes)"
   ]
  },
  {
   "cell_type": "code",
   "execution_count": 57,
   "metadata": {},
   "outputs": [
    {
     "data": {
      "text/plain": [
       "2.3999999999999915"
      ]
     },
     "execution_count": 57,
     "metadata": {},
     "output_type": "execute_result"
    }
   ],
   "source": [
    "#Calculate the number of votes garnered by the 80th percentile movie\n",
    "m = mov['num_voter'].quantile(.6)\n",
    "m"
   ]
  },
  {
   "cell_type": "code",
   "execution_count": 58,
   "metadata": {},
   "outputs": [
    {
     "data": {
      "text/plain": [
       "Drama                 77\n",
       "Action & adventure    40\n",
       "Comedy                36\n",
       "Horror                18\n",
       "Animation              7\n",
       "Documentary            7\n",
       "Family                 6\n",
       "Name: category, dtype: int64"
      ]
     },
     "execution_count": 58,
     "metadata": {},
     "output_type": "execute_result"
    }
   ],
   "source": [
    "#mov.num_voter.value_counts()\n",
    "mov.category.value_counts()"
   ]
  },
  {
   "cell_type": "code",
   "execution_count": 59,
   "metadata": {},
   "outputs": [
    {
     "data": {
      "text/plain": [
       "58.99"
      ]
     },
     "execution_count": 59,
     "metadata": {},
     "output_type": "execute_result"
    }
   ],
   "source": [
    "mov.price.max()"
   ]
  },
  {
   "cell_type": "code",
   "execution_count": 60,
   "metadata": {},
   "outputs": [
    {
     "data": {
      "text/plain": [
       "14.99"
      ]
     },
     "execution_count": 60,
     "metadata": {},
     "output_type": "execute_result"
    }
   ],
   "source": [
    "mov.price.min()"
   ]
  },
  {
   "cell_type": "code",
   "execution_count": 61,
   "metadata": {},
   "outputs": [
    {
     "data": {
      "text/plain": [
       "(80, 7)"
      ]
     },
     "execution_count": 61,
     "metadata": {},
     "output_type": "execute_result"
    }
   ],
   "source": [
    "#Only consider movies longer than 45 minutes and shorter than 300 minutes\n",
    "q_movies = mov[(mov['price'] >= 14.99) & (mov['price'] <= 58.99)]\n",
    "\n",
    "#Only consider movies that have garnered more than m votes\n",
    "q_movies = q_movies[q_movies['num_voter'] >= m]\n",
    "\n",
    "#Inspect the number of movies that made the cut\n",
    "q_movies.shape"
   ]
  },
  {
   "cell_type": "code",
   "execution_count": 62,
   "metadata": {},
   "outputs": [
    {
     "data": {
      "text/plain": [
       "2.4"
      ]
     },
     "execution_count": 62,
     "metadata": {},
     "output_type": "execute_result"
    }
   ],
   "source": [
    "# Calculate C\n",
    "C = mov['rating'].mean()\n",
    "C"
   ]
  },
  {
   "cell_type": "code",
   "execution_count": 63,
   "metadata": {},
   "outputs": [],
   "source": [
    "# Function to compute the IMDB weighted rating for each movie\n",
    "def weighted_rating(x, m=m, C=C):\n",
    "    v = x['num_voter']\n",
    "    R = x['rating']\n",
    "    # Compute the weighted score\n",
    "    return (v/(v+m) * R) + (m/(m+v) * C)"
   ]
  },
  {
   "cell_type": "code",
   "execution_count": 64,
   "metadata": {},
   "outputs": [],
   "source": [
    "# Compute the score using the weighted_rating function defined above\n",
    "q_movies['score'] = q_movies.apply(weighted_rating, axis=1)"
   ]
  },
  {
   "cell_type": "code",
   "execution_count": 65,
   "metadata": {},
   "outputs": [
    {
     "data": {
      "text/html": [
       "<div>\n",
       "<style scoped>\n",
       "    .dataframe tbody tr th:only-of-type {\n",
       "        vertical-align: middle;\n",
       "    }\n",
       "\n",
       "    .dataframe tbody tr th {\n",
       "        vertical-align: top;\n",
       "    }\n",
       "\n",
       "    .dataframe thead th {\n",
       "        text-align: right;\n",
       "    }\n",
       "</style>\n",
       "<table border=\"1\" class=\"dataframe\">\n",
       "  <thead>\n",
       "    <tr style=\"text-align: right;\">\n",
       "      <th></th>\n",
       "      <th>movies_name</th>\n",
       "      <th>num_voter</th>\n",
       "      <th>rating</th>\n",
       "      <th>score</th>\n",
       "      <th>price</th>\n",
       "    </tr>\n",
       "  </thead>\n",
       "  <tbody>\n",
       "    <tr>\n",
       "      <th>25</th>\n",
       "      <td>The Hate U Give</td>\n",
       "      <td>184</td>\n",
       "      <td>4.5</td>\n",
       "      <td>4.472961</td>\n",
       "      <td>19.99</td>\n",
       "    </tr>\n",
       "    <tr>\n",
       "      <th>22</th>\n",
       "      <td>Deadpool 2</td>\n",
       "      <td>6634</td>\n",
       "      <td>4.4</td>\n",
       "      <td>4.399277</td>\n",
       "      <td>55.99</td>\n",
       "    </tr>\n",
       "    <tr>\n",
       "      <th>105</th>\n",
       "      <td>DRAGON BALL SUPER: BROLY</td>\n",
       "      <td>123</td>\n",
       "      <td>4.3</td>\n",
       "      <td>4.263636</td>\n",
       "      <td>14.99</td>\n",
       "    </tr>\n",
       "    <tr>\n",
       "      <th>155</th>\n",
       "      <td>Bumblebee</td>\n",
       "      <td>1389</td>\n",
       "      <td>4.2</td>\n",
       "      <td>4.196895</td>\n",
       "      <td>14.99</td>\n",
       "    </tr>\n",
       "    <tr>\n",
       "      <th>1</th>\n",
       "      <td>Alita: Battle Angel</td>\n",
       "      <td>875</td>\n",
       "      <td>4.2</td>\n",
       "      <td>4.195076</td>\n",
       "      <td>19.99</td>\n",
       "    </tr>\n",
       "    <tr>\n",
       "      <th>28</th>\n",
       "      <td>Once Upon a Deadpool</td>\n",
       "      <td>395</td>\n",
       "      <td>4.2</td>\n",
       "      <td>4.189129</td>\n",
       "      <td>58.99</td>\n",
       "    </tr>\n",
       "    <tr>\n",
       "      <th>37</th>\n",
       "      <td>THE PRODIGY</td>\n",
       "      <td>29</td>\n",
       "      <td>4.3</td>\n",
       "      <td>4.154777</td>\n",
       "      <td>36.99</td>\n",
       "    </tr>\n",
       "    <tr>\n",
       "      <th>60</th>\n",
       "      <td>PONY WITH A BROKEN WING</td>\n",
       "      <td>17</td>\n",
       "      <td>4.4</td>\n",
       "      <td>4.152577</td>\n",
       "      <td>36.99</td>\n",
       "    </tr>\n",
       "    <tr>\n",
       "      <th>54</th>\n",
       "      <td>122</td>\n",
       "      <td>6</td>\n",
       "      <td>4.8</td>\n",
       "      <td>4.114286</td>\n",
       "      <td>36.99</td>\n",
       "    </tr>\n",
       "    <tr>\n",
       "      <th>24</th>\n",
       "      <td>The Predator</td>\n",
       "      <td>1764</td>\n",
       "      <td>4.1</td>\n",
       "      <td>4.097690</td>\n",
       "      <td>55.99</td>\n",
       "    </tr>\n",
       "    <tr>\n",
       "      <th>6</th>\n",
       "      <td>AFTER</td>\n",
       "      <td>39</td>\n",
       "      <td>4.2</td>\n",
       "      <td>4.095652</td>\n",
       "      <td>36.99</td>\n",
       "    </tr>\n",
       "    <tr>\n",
       "      <th>89</th>\n",
       "      <td>THE WITCH IN THE WINDOW</td>\n",
       "      <td>12</td>\n",
       "      <td>4.4</td>\n",
       "      <td>4.066667</td>\n",
       "      <td>14.99</td>\n",
       "    </tr>\n",
       "    <tr>\n",
       "      <th>133</th>\n",
       "      <td>ZOO</td>\n",
       "      <td>11</td>\n",
       "      <td>4.4</td>\n",
       "      <td>4.041791</td>\n",
       "      <td>14.99</td>\n",
       "    </tr>\n",
       "    <tr>\n",
       "      <th>31</th>\n",
       "      <td>RATSASAN</td>\n",
       "      <td>4</td>\n",
       "      <td>5.0</td>\n",
       "      <td>4.025000</td>\n",
       "      <td>14.99</td>\n",
       "    </tr>\n",
       "    <tr>\n",
       "      <th>93</th>\n",
       "      <td>PAWPARAZZI</td>\n",
       "      <td>4</td>\n",
       "      <td>5.0</td>\n",
       "      <td>4.025000</td>\n",
       "      <td>14.99</td>\n",
       "    </tr>\n",
       "    <tr>\n",
       "      <th>103</th>\n",
       "      <td>THE PROFESSOR AND THE MADMAN</td>\n",
       "      <td>4</td>\n",
       "      <td>5.0</td>\n",
       "      <td>4.025000</td>\n",
       "      <td>14.99</td>\n",
       "    </tr>\n",
       "    <tr>\n",
       "      <th>113</th>\n",
       "      <td>COLETTE</td>\n",
       "      <td>4</td>\n",
       "      <td>5.0</td>\n",
       "      <td>4.025000</td>\n",
       "      <td>14.99</td>\n",
       "    </tr>\n",
       "    <tr>\n",
       "      <th>7</th>\n",
       "      <td>Tolkien</td>\n",
       "      <td>19</td>\n",
       "      <td>4.2</td>\n",
       "      <td>3.998131</td>\n",
       "      <td>19.99</td>\n",
       "    </tr>\n",
       "    <tr>\n",
       "      <th>119</th>\n",
       "      <td>SUMMER OF 84</td>\n",
       "      <td>17</td>\n",
       "      <td>4.2</td>\n",
       "      <td>3.977320</td>\n",
       "      <td>14.99</td>\n",
       "    </tr>\n",
       "    <tr>\n",
       "      <th>29</th>\n",
       "      <td>TAMIZH PADAM 2</td>\n",
       "      <td>4</td>\n",
       "      <td>4.8</td>\n",
       "      <td>3.900000</td>\n",
       "      <td>14.99</td>\n",
       "    </tr>\n",
       "    <tr>\n",
       "      <th>75</th>\n",
       "      <td>A DARK PLACE</td>\n",
       "      <td>6</td>\n",
       "      <td>4.5</td>\n",
       "      <td>3.900000</td>\n",
       "      <td>14.99</td>\n",
       "    </tr>\n",
       "    <tr>\n",
       "      <th>52</th>\n",
       "      <td>Uncle Naji in UAE</td>\n",
       "      <td>15</td>\n",
       "      <td>4.1</td>\n",
       "      <td>3.865517</td>\n",
       "      <td>36.99</td>\n",
       "    </tr>\n",
       "    <tr>\n",
       "      <th>87</th>\n",
       "      <td>JUNGLE MASTER 2 : CANDY PLANET</td>\n",
       "      <td>3</td>\n",
       "      <td>5.0</td>\n",
       "      <td>3.844444</td>\n",
       "      <td>14.99</td>\n",
       "    </tr>\n",
       "    <tr>\n",
       "      <th>46</th>\n",
       "      <td>Extremely Wicked, Shockingly Evil, and Vile</td>\n",
       "      <td>3</td>\n",
       "      <td>5.0</td>\n",
       "      <td>3.844444</td>\n",
       "      <td>36.99</td>\n",
       "    </tr>\n",
       "    <tr>\n",
       "      <th>178</th>\n",
       "      <td>هوارد لافكرافت والمملكة جنون</td>\n",
       "      <td>3</td>\n",
       "      <td>5.0</td>\n",
       "      <td>3.844444</td>\n",
       "      <td>14.99</td>\n",
       "    </tr>\n",
       "  </tbody>\n",
       "</table>\n",
       "</div>"
      ],
      "text/plain": [
       "                                     movies_name  num_voter  rating     score  \\\n",
       "25                               The Hate U Give        184     4.5  4.472961   \n",
       "22                                    Deadpool 2       6634     4.4  4.399277   \n",
       "105                     DRAGON BALL SUPER: BROLY        123     4.3  4.263636   \n",
       "155                                    Bumblebee       1389     4.2  4.196895   \n",
       "1                            Alita: Battle Angel        875     4.2  4.195076   \n",
       "28                          Once Upon a Deadpool        395     4.2  4.189129   \n",
       "37                                   THE PRODIGY         29     4.3  4.154777   \n",
       "60                       PONY WITH A BROKEN WING         17     4.4  4.152577   \n",
       "54                                           122          6     4.8  4.114286   \n",
       "24                                  The Predator       1764     4.1  4.097690   \n",
       "6                                          AFTER         39     4.2  4.095652   \n",
       "89                       THE WITCH IN THE WINDOW         12     4.4  4.066667   \n",
       "133                                          ZOO         11     4.4  4.041791   \n",
       "31                                      RATSASAN          4     5.0  4.025000   \n",
       "93                                    PAWPARAZZI          4     5.0  4.025000   \n",
       "103                 THE PROFESSOR AND THE MADMAN          4     5.0  4.025000   \n",
       "113                                      COLETTE          4     5.0  4.025000   \n",
       "7                                        Tolkien         19     4.2  3.998131   \n",
       "119                                 SUMMER OF 84         17     4.2  3.977320   \n",
       "29                                TAMIZH PADAM 2          4     4.8  3.900000   \n",
       "75                                  A DARK PLACE          6     4.5  3.900000   \n",
       "52                             Uncle Naji in UAE         15     4.1  3.865517   \n",
       "87                JUNGLE MASTER 2 : CANDY PLANET          3     5.0  3.844444   \n",
       "46   Extremely Wicked, Shockingly Evil, and Vile          3     5.0  3.844444   \n",
       "178                 هوارد لافكرافت والمملكة جنون          3     5.0  3.844444   \n",
       "\n",
       "     price  \n",
       "25   19.99  \n",
       "22   55.99  \n",
       "105  14.99  \n",
       "155  14.99  \n",
       "1    19.99  \n",
       "28   58.99  \n",
       "37   36.99  \n",
       "60   36.99  \n",
       "54   36.99  \n",
       "24   55.99  \n",
       "6    36.99  \n",
       "89   14.99  \n",
       "133  14.99  \n",
       "31   14.99  \n",
       "93   14.99  \n",
       "103  14.99  \n",
       "113  14.99  \n",
       "7    19.99  \n",
       "119  14.99  \n",
       "29   14.99  \n",
       "75   14.99  \n",
       "52   36.99  \n",
       "87   14.99  \n",
       "46   36.99  \n",
       "178  14.99  "
      ]
     },
     "execution_count": 65,
     "metadata": {},
     "output_type": "execute_result"
    }
   ],
   "source": [
    "#Sort movies in descending order of their scores\n",
    "q_movies = q_movies.sort_values('score', ascending=False)\n",
    "\n",
    "#Print the top 25 movies\n",
    "q_movies[['movies_name', 'num_voter', 'rating', 'score', 'price']].head(25)"
   ]
  },
  {
   "cell_type": "code",
   "execution_count": null,
   "metadata": {},
   "outputs": [],
   "source": []
  },
  {
   "cell_type": "code",
   "execution_count": 66,
   "metadata": {},
   "outputs": [],
   "source": [
    "def build_chart(mov, percentile=.6):\n",
    "    #Ask for preferred genres\n",
    "    print(\"Input preferred category\")\n",
    "    category = input()\n",
    "    \n",
    "    #Ask for lower limit of price\n",
    "    print(\"Input lower price\")\n",
    "    low_price = int(input())\n",
    "    \n",
    "    #Ask for upper limit of price\n",
    "    print(\"Input higher price\")\n",
    "    high_price = int(input())\n",
    "    \n",
    "    #Ask for lower limit of timeline\n",
    "    print(\"Input earliest year\")\n",
    "    low_year = int(input())\n",
    "    \n",
    "    #Ask for upper limit of timeline\n",
    "    print(\"Input latest year\")\n",
    "    high_year = int(input())\n",
    "    \n",
    "    #Define a new movies variable to store the preferred movies. Copy the contents of gen_df to movies\n",
    "    movies = mov.copy()\n",
    "    \n",
    "    #Filter based on the condition\n",
    "    movies = mov[(mov['category'] == category) & \n",
    "                    (mov['price'] >= low_price) & \n",
    "                    (mov['price'] <= high_price) & \n",
    "                    (mov['year_of_release'] >= low_year) & \n",
    "                    (mov['year_of_release'] <= high_year)]\n",
    "    \n",
    "    #Compute the values of C and m for the filtered movies\n",
    "    C = mov['rating'].mean()\n",
    "    m = mov['num_voter'].quantile(percentile)\n",
    "    \n",
    "    #Only consider movies that have higher than m votes. Save this in a new dataframe q_movies\n",
    "    q_movies = movies.copy().loc[mov['num_voter'] >= m]\n",
    "    \n",
    "    #Calculate score using the IMDB formula\n",
    "    q_movies['score'] = q_movies.apply(lambda x: (x['num_voter']/(x['num_voter']+m) * x['rating']) \n",
    "                                       + (m/(m+x['num_voter']) * C)\n",
    "                                       ,axis=1)\n",
    "\n",
    "    #Sort movies in descending order of their scores\n",
    "    q_movies = q_movies.sort_values('score', ascending=False)\n",
    "    \n",
    "    return q_movies"
   ]
  },
  {
   "cell_type": "markdown",
   "metadata": {},
   "source": [
    "# Generate the chart for top movies based on features (category,price and year)."
   ]
  },
  {
   "cell_type": "code",
   "execution_count": 68,
   "metadata": {},
   "outputs": [
    {
     "name": "stdout",
     "output_type": "stream",
     "text": [
      "Input preferred category\n",
      "Action & adventure\n",
      "Input lower price\n",
      "14\n",
      "Input higher price\n",
      "60\n",
      "Input earliest year\n",
      "2015\n",
      "Input latest year\n",
      "2019\n"
     ]
    },
    {
     "data": {
      "text/html": [
       "<div>\n",
       "<style scoped>\n",
       "    .dataframe tbody tr th:only-of-type {\n",
       "        vertical-align: middle;\n",
       "    }\n",
       "\n",
       "    .dataframe tbody tr th {\n",
       "        vertical-align: top;\n",
       "    }\n",
       "\n",
       "    .dataframe thead th {\n",
       "        text-align: right;\n",
       "    }\n",
       "</style>\n",
       "<table border=\"1\" class=\"dataframe\">\n",
       "  <thead>\n",
       "    <tr style=\"text-align: right;\">\n",
       "      <th></th>\n",
       "      <th>movies_name</th>\n",
       "      <th>category</th>\n",
       "      <th>num_voter</th>\n",
       "      <th>rating</th>\n",
       "      <th>price</th>\n",
       "      <th>year_of_release</th>\n",
       "      <th>month_of_release</th>\n",
       "      <th>score</th>\n",
       "    </tr>\n",
       "  </thead>\n",
       "  <tbody>\n",
       "    <tr>\n",
       "      <th>22</th>\n",
       "      <td>Deadpool 2</td>\n",
       "      <td>Action &amp; adventure</td>\n",
       "      <td>6634</td>\n",
       "      <td>4.4</td>\n",
       "      <td>55.99</td>\n",
       "      <td>2018</td>\n",
       "      <td>5</td>\n",
       "      <td>4.399277</td>\n",
       "    </tr>\n",
       "    <tr>\n",
       "      <th>155</th>\n",
       "      <td>Bumblebee</td>\n",
       "      <td>Action &amp; adventure</td>\n",
       "      <td>1389</td>\n",
       "      <td>4.2</td>\n",
       "      <td>14.99</td>\n",
       "      <td>2018</td>\n",
       "      <td>12</td>\n",
       "      <td>4.196895</td>\n",
       "    </tr>\n",
       "    <tr>\n",
       "      <th>1</th>\n",
       "      <td>Alita: Battle Angel</td>\n",
       "      <td>Action &amp; adventure</td>\n",
       "      <td>875</td>\n",
       "      <td>4.2</td>\n",
       "      <td>19.99</td>\n",
       "      <td>2019</td>\n",
       "      <td>2</td>\n",
       "      <td>4.195076</td>\n",
       "    </tr>\n",
       "    <tr>\n",
       "      <th>28</th>\n",
       "      <td>Once Upon a Deadpool</td>\n",
       "      <td>Action &amp; adventure</td>\n",
       "      <td>395</td>\n",
       "      <td>4.2</td>\n",
       "      <td>58.99</td>\n",
       "      <td>2018</td>\n",
       "      <td>5</td>\n",
       "      <td>4.189129</td>\n",
       "    </tr>\n",
       "    <tr>\n",
       "      <th>24</th>\n",
       "      <td>The Predator</td>\n",
       "      <td>Action &amp; adventure</td>\n",
       "      <td>1764</td>\n",
       "      <td>4.1</td>\n",
       "      <td>55.99</td>\n",
       "      <td>2018</td>\n",
       "      <td>9</td>\n",
       "      <td>4.097690</td>\n",
       "    </tr>\n",
       "  </tbody>\n",
       "</table>\n",
       "</div>"
      ],
      "text/plain": [
       "              movies_name            category  num_voter  rating  price  \\\n",
       "22             Deadpool 2  Action & adventure       6634     4.4  55.99   \n",
       "155             Bumblebee  Action & adventure       1389     4.2  14.99   \n",
       "1     Alita: Battle Angel  Action & adventure        875     4.2  19.99   \n",
       "28   Once Upon a Deadpool  Action & adventure        395     4.2  58.99   \n",
       "24           The Predator  Action & adventure       1764     4.1  55.99   \n",
       "\n",
       "     year_of_release  month_of_release     score  \n",
       "22              2018                 5  4.399277  \n",
       "155             2018                12  4.196895  \n",
       "1               2019                 2  4.195076  \n",
       "28              2018                 5  4.189129  \n",
       "24              2018                 9  4.097690  "
      ]
     },
     "execution_count": 68,
     "metadata": {},
     "output_type": "execute_result"
    }
   ],
   "source": [
    "\n",
    "build_chart(mov).head()"
   ]
  },
  {
   "cell_type": "code",
   "execution_count": null,
   "metadata": {},
   "outputs": [],
   "source": []
  }
 ],
 "metadata": {
  "kernelspec": {
   "display_name": "Python 3",
   "language": "python",
   "name": "python3"
  },
  "language_info": {
   "codemirror_mode": {
    "name": "ipython",
    "version": 3
   },
   "file_extension": ".py",
   "mimetype": "text/x-python",
   "name": "python",
   "nbconvert_exporter": "python",
   "pygments_lexer": "ipython3",
   "version": "3.7.3"
  }
 },
 "nbformat": 4,
 "nbformat_minor": 2
}
